{
  "nbformat": 4,
  "nbformat_minor": 0,
  "metadata": {
    "colab": {
      "name": "EXERCICIO EBAC MODULO I.ipynb",
      "provenance": [],
      "toc_visible": true,
      "collapsed_sections": [],
      "include_colab_link": true
    },
    "kernelspec": {
      "name": "python3",
      "display_name": "Python 3"
    }
  },
  "cells": [
    {
      "cell_type": "markdown",
      "metadata": {
        "id": "view-in-github",
        "colab_type": "text"
      },
      "source": [
        "<a href=\"https://colab.research.google.com/github/efsilva0804/Ciencias_Dados_EBAC/blob/master/EXERCICIO_EBAC_MODULO_I.ipynb\" target=\"_parent\"><img src=\"https://colab.research.google.com/assets/colab-badge.svg\" alt=\"Open In Colab\"/></a>"
      ]
    },
    {
      "cell_type": "markdown",
      "metadata": {
        "id": "KJqp9AANOCtf"
      },
      "source": [
        "<img src=\"https://raw.githubusercontent.com/andre-marcos-perez/ebac-course-utils/main/media/logo/newebac_logo_black_half.png\" alt=\"ebac-logo\">\n",
        "\n",
        "---\n",
        "\n",
        "# **Módulo** | Python: Variáveis & Tipos de Dados\n",
        "Caderno de **Exercícios**<br> \n",
        "Professor [André Perez](https://www.linkedin.com/in/andremarcosperez/)\n",
        "\n",
        "Aluno: [Enio Silva](https://www.linkedin.com/in/enio-silva-4090b46a/)\n",
        "\n",
        "\n",
        "---"
      ]
    },
    {
      "cell_type": "markdown",
      "metadata": {
        "id": "d9jDtUbDOE1-"
      },
      "source": [
        "# **Tópicos**\n",
        "\n",
        "<ol type=\"1\">\n",
        "  <li>Introdução ao Google Colab;</li>\n",
        "  <li>Variáveis;</li>\n",
        "  <li>Números;</li>\n",
        "  <li><i>Strings;</i></li>\n",
        "  <li>Boleanos.</li>\n",
        "</ol>"
      ]
    },
    {
      "cell_type": "markdown",
      "metadata": {
        "id": "SmoHgt-lwkpD"
      },
      "source": [
        "---"
      ]
    },
    {
      "cell_type": "markdown",
      "metadata": {
        "id": "GABI6OW8OfQ2"
      },
      "source": [
        "# **Exercícios**"
      ]
    },
    {
      "cell_type": "markdown",
      "metadata": {
        "id": "muD1vxozykSC"
      },
      "source": [
        "## 1\\. Google Colab"
      ]
    },
    {
      "cell_type": "markdown",
      "metadata": {
        "id": "ahrFfCuBxJKs"
      },
      "source": [
        "Crie uma célula de código que escreva o texto \"Olá mundo!\", utilize o comando `print`."
      ]
    },
    {
      "cell_type": "code",
      "source": [
        "print('Olá Mundo!')"
      ],
      "metadata": {
        "colab": {
          "base_uri": "https://localhost:8080/"
        },
        "id": "mpXM85rTKaY5",
        "outputId": "b7dbecd7-7d73-4c21-cec8-58e102a35a07"
      },
      "execution_count": 1,
      "outputs": [
        {
          "output_type": "stream",
          "name": "stdout",
          "text": [
            "Olá Mundo!\n"
          ]
        }
      ]
    },
    {
      "cell_type": "markdown",
      "metadata": {
        "id": "KI9zQRT2xa7m"
      },
      "source": [
        "Crie uma célua de texto e adicione uma imagem.\n",
        "\n",
        "\n",
        "---\n",
        "<img src=\"https://raw.githubusercontent.com/efsilva0804/Ciencias_Dados_EBAC/0b69d3f0993106a0d0ac768056921d52438f625f/Dados/logo/01.%20Corporate-0050-Back.jpg\" alt=\"efsilva\">\n",
        "      \n",
        "\n"
      ]
    },
    {
      "cell_type": "markdown",
      "metadata": {
        "id": "zMN1Q3jdwoJm"
      },
      "source": [
        "---"
      ]
    },
    {
      "cell_type": "markdown",
      "metadata": {
        "id": "tFYOPLS3xiwe"
      },
      "source": [
        "## 2\\. Números"
      ]
    },
    {
      "cell_type": "markdown",
      "metadata": {
        "id": "O2G9gt7tx2c-"
      },
      "source": [
        "Preencha as células de código para preencher os valores de (A), (B) e (C) na tabela de ticket médio abaixo:\n",
        "\n",
        "<br>\n",
        "\n",
        "| Dia   | Valor Total Vendas | Qtd Total Vendas | Ticket Medio |\n",
        "|-------|--------------------|------------------|--------------|\n",
        "| 19/01 | (A)=961.56                | 3                | 320.52       |\n",
        "| 20/01 | 834.47             | (B) = 7              | 119.21       |\n",
        "| 23/01 | 15378.12           | 5                | (C) = 3075.62          |"
      ]
    },
    {
      "cell_type": "code",
      "metadata": {
        "id": "nsrKH9EizNRD",
        "colab": {
          "base_uri": "https://localhost:8080/"
        },
        "outputId": "b6970783-23ee-4a08-bdcf-dd635e00e073"
      },
      "source": [
        " (A) = 3 * 320.52\n",
        " print(A)"
      ],
      "execution_count": 1,
      "outputs": [
        {
          "output_type": "stream",
          "name": "stdout",
          "text": [
            "961.56\n"
          ]
        }
      ]
    },
    {
      "cell_type": "code",
      "metadata": {
        "id": "QQ1GBGHJzMmi",
        "colab": {
          "base_uri": "https://localhost:8080/"
        },
        "outputId": "7bb8866d-46ea-48a3-9cbf-997db9baa112"
      },
      "source": [
        "(B) = 834.47 / 119.21\n",
        "print(B)"
      ],
      "execution_count": 3,
      "outputs": [
        {
          "output_type": "stream",
          "name": "stdout",
          "text": [
            "7.000000000000001\n"
          ]
        }
      ]
    },
    {
      "cell_type": "code",
      "metadata": {
        "id": "W-li0nSMzKNa",
        "colab": {
          "base_uri": "https://localhost:8080/"
        },
        "outputId": "0348dbc0-dee9-4577-d8fd-7f17e7c3f9a4"
      },
      "source": [
        "(C) = 15378.12 / 5\n",
        "print(C)"
      ],
      "execution_count": 6,
      "outputs": [
        {
          "output_type": "stream",
          "name": "stdout",
          "text": [
            "3075.6240000000003\n"
          ]
        }
      ]
    },
    {
      "cell_type": "markdown",
      "metadata": {
        "id": "3eoP-Vj9yzh8"
      },
      "source": [
        "---"
      ]
    },
    {
      "cell_type": "markdown",
      "metadata": {
        "id": "yUJ6kdony6Pr"
      },
      "source": [
        "## 3\\. Strings"
      ]
    },
    {
      "cell_type": "markdown",
      "metadata": {
        "id": "KDuZpg-5zCvO"
      },
      "source": [
        "Aplique três métodos distintos na *string* abaixo, você pode conferir alguns métodos neste [link](https://www.w3schools.com/python/python_ref_string.asp):"
      ]
    },
    {
      "cell_type": "code",
      "metadata": {
        "id": "k9zbyf7BzjKj"
      },
      "source": [
        "cancao = 'Roda mundo, roda gigante, roda moinho, roda pião.'"
      ],
      "execution_count": 9,
      "outputs": []
    },
    {
      "cell_type": "markdown",
      "source": [
        "#Método upper\n",
        "#Todos em maiusculo"
      ],
      "metadata": {
        "id": "35QmJlnFtOws"
      }
    },
    {
      "cell_type": "code",
      "source": [
        "print(cancao.upper())"
      ],
      "metadata": {
        "colab": {
          "base_uri": "https://localhost:8080/"
        },
        "id": "65JLchRsqh04",
        "outputId": "a8d29384-20a7-4992-8eaf-9a544c6659a8"
      },
      "execution_count": 10,
      "outputs": [
        {
          "output_type": "stream",
          "name": "stdout",
          "text": [
            "RODA MUNDO, RODA GIGANTE, RODA MOINHO, RODA PIÃO.\n"
          ]
        }
      ]
    },
    {
      "cell_type": "markdown",
      "source": [
        "#Método find\n",
        "#encontra a posição"
      ],
      "metadata": {
        "id": "V-pFM1Eytrww"
      }
    },
    {
      "cell_type": "code",
      "source": [
        "posicao = cancao.find('pião')"
      ],
      "metadata": {
        "id": "u2EVH-88tz4R"
      },
      "execution_count": 12,
      "outputs": []
    },
    {
      "cell_type": "code",
      "source": [
        "print(posicao)"
      ],
      "metadata": {
        "colab": {
          "base_uri": "https://localhost:8080/"
        },
        "id": "ogrdevtVuJBM",
        "outputId": "36420d13-e725-4d76-af10-892750758b57"
      },
      "execution_count": 13,
      "outputs": [
        {
          "output_type": "stream",
          "name": "stdout",
          "text": [
            "44\n"
          ]
        }
      ]
    },
    {
      "cell_type": "markdown",
      "source": [
        "#Método replace\n",
        "#Substitui as strinds"
      ],
      "metadata": {
        "id": "HqlH40SPuN42"
      }
    },
    {
      "cell_type": "code",
      "source": [
        "print(cancao.replace('roda', 'rd'))"
      ],
      "metadata": {
        "colab": {
          "base_uri": "https://localhost:8080/"
        },
        "id": "1ix8fyhauWg6",
        "outputId": "2f1fc5b6-27f6-4c9d-aed6-f3383bb54465"
      },
      "execution_count": 14,
      "outputs": [
        {
          "output_type": "stream",
          "name": "stdout",
          "text": [
            "Roda mundo, rd gigante, rd moinho, rd pião.\n"
          ]
        }
      ]
    },
    {
      "cell_type": "markdown",
      "metadata": {
        "id": "guZMHXVq0FnC"
      },
      "source": [
        "Extraia da string abaixo o valor da taxa **selic** na variável `selic` e o valor do **ano** na variavel `ano`. Imprima os valores na tela."
      ]
    },
    {
      "cell_type": "code",
      "metadata": {
        "id": "cbx_P4IQ0agK"
      },
      "source": [
        "noticia = 'Selic vai a 2,75% e supera expectativas; é a primeira alta em 6 anos.'"
      ],
      "execution_count": 16,
      "outputs": []
    },
    {
      "cell_type": "code",
      "source": [
        "posicao = noticia.find('2')\n",
        "print(posicao)\n",
        "posicao1 = noticia.find('%')\n",
        "print(posicao1)\n"
      ],
      "metadata": {
        "colab": {
          "base_uri": "https://localhost:8080/"
        },
        "id": "xsvlH5Vpun_a",
        "outputId": "7368cd6e-082c-4491-96a3-89a0bff9b379"
      },
      "execution_count": 39,
      "outputs": [
        {
          "output_type": "stream",
          "name": "stdout",
          "text": [
            "12\n",
            "16\n"
          ]
        }
      ]
    },
    {
      "cell_type": "markdown",
      "source": [
        "#Valor Selic"
      ],
      "metadata": {
        "id": "wERleQEK5mT1"
      }
    },
    {
      "cell_type": "code",
      "source": [
        "selic = noticia[posicao:posicao1+1]\n",
        "print('Selic = ', selic)"
      ],
      "metadata": {
        "colab": {
          "base_uri": "https://localhost:8080/"
        },
        "id": "e23PugOvxmk5",
        "outputId": "555b7328-1154-4d62-efeb-3d754759d6cb"
      },
      "execution_count": 40,
      "outputs": [
        {
          "output_type": "stream",
          "name": "stdout",
          "text": [
            "Selic =  2,75%\n"
          ]
        }
      ]
    },
    {
      "cell_type": "code",
      "source": [
        "posicao = noticia.find('em')\n",
        "print(posicao)\n",
        "posicao1 = noticia.find('6')\n",
        "print(posicao1)"
      ],
      "metadata": {
        "id": "nlBQvNkr4jpR",
        "outputId": "02600307-17e1-4856-a244-894f526b2d3d",
        "colab": {
          "base_uri": "https://localhost:8080/"
        }
      },
      "execution_count": 42,
      "outputs": [
        {
          "output_type": "stream",
          "name": "stdout",
          "text": [
            "59\n",
            "62\n"
          ]
        }
      ]
    },
    {
      "cell_type": "markdown",
      "source": [
        "#Valor Ano"
      ],
      "metadata": {
        "id": "5xS2y1Ne5q13"
      }
    },
    {
      "cell_type": "code",
      "source": [
        "ano = noticia[posicao+2:posicao1+1]\n",
        "print('Ano = ', ano)"
      ],
      "metadata": {
        "id": "Gf_5bGtM5CYF",
        "outputId": "555c35bd-f21d-49ea-daac-e846689ec148",
        "colab": {
          "base_uri": "https://localhost:8080/"
        }
      },
      "execution_count": 46,
      "outputs": [
        {
          "output_type": "stream",
          "name": "stdout",
          "text": [
            "Ano =   6\n"
          ]
        }
      ]
    },
    {
      "cell_type": "code",
      "source": [
        ""
      ],
      "metadata": {
        "id": "8cenh-KJ5CVD"
      },
      "execution_count": null,
      "outputs": []
    },
    {
      "cell_type": "markdown",
      "metadata": {
        "id": "wWzbu-OC0z3L"
      },
      "source": [
        "---"
      ]
    },
    {
      "cell_type": "markdown",
      "metadata": {
        "id": "no8w_Ati01xP"
      },
      "source": [
        "## 4\\. Booleanos"
      ]
    },
    {
      "cell_type": "markdown",
      "metadata": {
        "id": "D_0tC3SC099N"
      },
      "source": [
        "Utilize a tabela da verdade para responder: qual o valor da variável x?"
      ]
    },
    {
      "cell_type": "code",
      "metadata": {
        "id": "XwIEbxf91SpU"
      },
      "source": [
        "a = False\n",
        "b = True\n",
        "\n",
        "x = not a & b"
      ],
      "execution_count": 47,
      "outputs": []
    },
    {
      "cell_type": "code",
      "source": [
        "print(x)"
      ],
      "metadata": {
        "id": "sEKtpsxV9Eeh",
        "outputId": "1bf8a05f-8399-4794-c427-e3d5689646bf",
        "colab": {
          "base_uri": "https://localhost:8080/"
        }
      },
      "execution_count": 48,
      "outputs": [
        {
          "output_type": "stream",
          "name": "stdout",
          "text": [
            "True\n"
          ]
        }
      ]
    }
  ]
}